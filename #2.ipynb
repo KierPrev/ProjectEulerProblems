{
 "cells": [
  {
   "cell_type": "code",
   "execution_count": null,
   "id": "c28db419",
   "metadata": {},
   "outputs": [
    {
     "name": "stdout",
     "output_type": "stream",
     "text": [
      "Set([610, 8, 196418, 3524578, 10946, 832040, 34, 2, 144, 2584, 46368])"
     ]
    },
    {
     "data": {
      "text/plain": [
       "4613732"
      ]
     },
     "metadata": {},
     "output_type": "display_data"
    }
   ],
   "source": [
    "prev = 0\n",
    "sig = 1\n",
    "temp_prev = 0\n",
    "\n",
    "fibonacci_pares = Set{Int}()\n",
    "\n",
    "while prev + sig < 4000000\n",
    "    if iseven(prev + sig)\n",
    "        push!(fibonacci_pares, prev + sig)\n",
    "    end\n",
    "\n",
    "    temp_prev = prev\n",
    "    prev = sig\n",
    "    sig = sig + temp_prev\n",
    "    \n",
    "end\n",
    "\n",
    "print(fibonacci_pares)\n",
    "\n",
    "sum(fibonacci_pares)\n"
   ]
  }
 ],
 "metadata": {
  "kernelspec": {
   "display_name": "Julia 1.11.4",
   "language": "julia",
   "name": "julia-1.11"
  },
  "language_info": {
   "file_extension": ".jl",
   "mimetype": "application/julia",
   "name": "julia",
   "version": "1.11.4"
  }
 },
 "nbformat": 4,
 "nbformat_minor": 5
}
