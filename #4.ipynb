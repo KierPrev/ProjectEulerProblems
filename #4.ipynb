{
 "cells": [
  {
   "cell_type": "code",
   "execution_count": 50,
   "id": "9428debb",
   "metadata": {},
   "outputs": [
    {
     "data": {
      "text/plain": [
       "esPalindromo (generic function with 1 method)"
      ]
     },
     "metadata": {},
     "output_type": "display_data"
    }
   ],
   "source": [
    "function esPalindromo(num)\n",
    "    if string(num) == reverse(string(num))\n",
    "        return true\n",
    "    else    \n",
    "        return false    \n",
    "    end\n",
    "   \n",
    "end"
   ]
  },
  {
   "cell_type": "code",
   "execution_count": 51,
   "id": "f634145d",
   "metadata": {},
   "outputs": [
    {
     "data": {
      "text/plain": [
       "906609"
      ]
     },
     "metadata": {},
     "output_type": "display_data"
    }
   ],
   "source": [
    "productos = Int[]\n",
    "\n",
    "# Rango de números de 3 dígitos (100 a 999)\n",
    "numeros = 100:999\n",
    "\n",
    "# Doble bucle for para calcular todos los productos\n",
    "for i in numeros\n",
    "    for j in numeros\n",
    "        producto = i * j\n",
    "        if esPalindromo(producto)\n",
    "            push!(productos, producto)  # Agregar el producto al array\n",
    "        end\n",
    "    end\n",
    "end\n",
    "\n",
    "maximum(productos)"
   ]
  }
 ],
 "metadata": {
  "kernelspec": {
   "display_name": "Julia 1.11.4",
   "language": "julia",
   "name": "julia-1.11"
  },
  "language_info": {
   "file_extension": ".jl",
   "mimetype": "application/julia",
   "name": "julia",
   "version": "1.11.4"
  }
 },
 "nbformat": 4,
 "nbformat_minor": 5
}
