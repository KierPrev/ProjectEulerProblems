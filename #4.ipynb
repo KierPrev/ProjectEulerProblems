{
 "cells": [
  {
   "cell_type": "code",
   "execution_count": 93,
   "id": "0fc32689",
   "metadata": {},
   "outputs": [
    {
     "data": {
      "text/plain": [
       "esPalindromo (generic function with 1 method)"
      ]
     },
     "metadata": {},
     "output_type": "display_data"
    }
   ],
   "source": [
    "function esPalindromo(numero)\n",
    "\n",
    "    # Lo convertimos a string\n",
    "    num_str = string(numero)\n",
    "\n",
    "    primer_caracter = num_str[1]\n",
    "    ultimo_caracter = num_str[end]\n",
    "\n",
    "    if primer_caracter != ultimo_caracter\n",
    "        return false\n",
    "    else        # Recorremos cada carácter\n",
    "        segundo_caracter = num_str[2]\n",
    "        for i in 2:length(num_str)-1\n",
    "            i_caracter = num_str[i]\n",
    "            println(segundo_caracter, i_caracter)\n",
    "            if i_caracter != segundo_caracter\n",
    "                return false\n",
    "            end\n",
    "        end\n",
    "        return true\n",
    "    end\n",
    "\n",
    "    \n",
    "\n",
    "end"
   ]
  },
  {
   "cell_type": "code",
   "execution_count": 94,
   "id": "4cee478f",
   "metadata": {},
   "outputs": [
    {
     "name": "stdout",
     "output_type": "stream",
     "text": [
      "22\n",
      "23\n"
     ]
    },
    {
     "data": {
      "text/plain": [
       "false"
      ]
     },
     "metadata": {},
     "output_type": "display_data"
    }
   ],
   "source": [
    "esPalindromo(123321)"
   ]
  }
 ],
 "metadata": {
  "kernelspec": {
   "display_name": "Julia 1.11.4",
   "language": "julia",
   "name": "julia-1.11"
  },
  "language_info": {
   "file_extension": ".jl",
   "mimetype": "application/julia",
   "name": "julia",
   "version": "1.11.4"
  }
 },
 "nbformat": 4,
 "nbformat_minor": 5
}
