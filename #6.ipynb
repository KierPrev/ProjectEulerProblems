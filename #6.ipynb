{
 "cells": [
  {
   "cell_type": "code",
   "execution_count": null,
   "id": "e6bcb85f",
   "metadata": {},
   "outputs": [],
   "source": [
    "function sumar(n)\n",
    "    sum = 0\n",
    "    for i in 1:n\n",
    "        sum += i\n",
    "    end\n",
    "    return sum\n",
    "end"
   ]
  },
  {
   "cell_type": "code",
   "execution_count": null,
   "id": "3877907c",
   "metadata": {},
   "outputs": [],
   "source": [
    "function sumarCuadrados(n)\n",
    "    sum = 0\n",
    "    for i in 1:n\n",
    "        sum += i^2\n",
    "    end\n",
    "    return sum\n",
    "end\n"
   ]
  },
  {
   "cell_type": "code",
   "execution_count": null,
   "id": "6faab029",
   "metadata": {},
   "outputs": [],
   "source": [
    "sumar(100)^2 - sumarCuadrados(100)"
   ]
  }
 ],
 "metadata": {
  "kernelspec": {
   "display_name": "Julia 1.11.4",
   "language": "julia",
   "name": "julia-1.11"
  },
  "language_info": {
   "file_extension": ".jl",
   "mimetype": "application/julia",
   "name": "julia",
   "version": "1.11.4"
  }
 },
 "nbformat": 4,
 "nbformat_minor": 5
}
