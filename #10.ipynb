{
 "cells": [
  {
   "cell_type": "code",
   "execution_count": 1,
   "id": "08af94d4",
   "metadata": {},
   "outputs": [
    {
     "data": {
      "text/plain": [
       "esPrimo (generic function with 1 method)"
      ]
     },
     "metadata": {},
     "output_type": "display_data"
    }
   ],
   "source": [
    "function esPrimo(num::Integer)\n",
    "    if num <= 1\n",
    "        return false\n",
    "    elseif num == 2\n",
    "        return true\n",
    "    elseif num % 2 == 0\n",
    "        return false\n",
    "    else\n",
    "        for i in 3:2:floor(Int, sqrt(num))\n",
    "            if num % i == 0\n",
    "                return false\n",
    "            end\n",
    "        end\n",
    "        return true\n",
    "    end\n",
    "end"
   ]
  },
  {
   "cell_type": "code",
   "execution_count": 32,
   "id": "f538b5e5",
   "metadata": {},
   "outputs": [
    {
     "data": {
      "text/plain": [
       "sumarPrimosDebajo (generic function with 1 method)"
      ]
     },
     "metadata": {},
     "output_type": "display_data"
    }
   ],
   "source": [
    "function sumarPrimosDebajo(n)\n",
    "    lista = Int64[]\n",
    "    for i in 2:(n-1)\n",
    "        if esPrimo(i)\n",
    "            push!(lista, i)\n",
    "        end\n",
    "        \n",
    "    end\n",
    "    return sum(lista)\n",
    "    \n",
    "end"
   ]
  },
  {
   "cell_type": "code",
   "execution_count": 35,
   "id": "a97acec8",
   "metadata": {},
   "outputs": [
    {
     "data": {
      "text/plain": [
       "142913828922"
      ]
     },
     "metadata": {},
     "output_type": "display_data"
    }
   ],
   "source": [
    "sumarPrimosDebajo(2000000)"
   ]
  }
 ],
 "metadata": {
  "kernelspec": {
   "display_name": "Julia 1.11.4",
   "language": "julia",
   "name": "julia-1.11"
  },
  "language_info": {
   "file_extension": ".jl",
   "mimetype": "application/julia",
   "name": "julia",
   "version": "1.11.4"
  }
 },
 "nbformat": 4,
 "nbformat_minor": 5
}
