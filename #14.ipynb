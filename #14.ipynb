{
 "cells": [
  {
   "cell_type": "code",
   "execution_count": null,
   "id": "3a3e862a",
   "metadata": {},
   "outputs": [],
   "source": [
    "function sigSiImpar(n)\n",
    "    return 3*n + 1\n",
    "end"
   ]
  },
  {
   "cell_type": "code",
   "execution_count": null,
   "id": "799e0a34",
   "metadata": {},
   "outputs": [],
   "source": [
    "function sigSiPar(n)\n",
    "    return n/2\n",
    "end"
   ]
  },
  {
   "cell_type": "code",
   "execution_count": null,
   "id": "924eadd4",
   "metadata": {},
   "outputs": [],
   "source": [
    "function esPar(n)\n",
    "    if n % 2 == 0\n",
    "        return true\n",
    "    else\n",
    "        return false\n",
    "    end\n",
    "end"
   ]
  },
  {
   "cell_type": "code",
   "execution_count": null,
   "id": "7372d482",
   "metadata": {},
   "outputs": [],
   "source": [
    "function calcularSecuenciaHasta1(n)\n",
    "\n",
    "    secuencia = []\n",
    "\n",
    "    push!(secuencia, n)\n",
    "\n",
    "    while n != 1\n",
    "\n",
    "        if esPar(n) == true\n",
    "            n = sigSiPar(n)\n",
    "            push!(secuencia, n)\n",
    "        else\n",
    "            n = sigSiImpar(n)\n",
    "            push!(secuencia, n)\n",
    "        end\n",
    "    end\n",
    "\n",
    "    return secuencia\n",
    "end"
   ]
  },
  {
   "cell_type": "code",
   "execution_count": null,
   "id": "112feec1",
   "metadata": {},
   "outputs": [],
   "source": [
    "calcularSecuenciaHasta1(20)"
   ]
  },
  {
   "cell_type": "code",
   "execution_count": 55,
   "id": "0c1e19b0",
   "metadata": {},
   "outputs": [
    {
     "data": {
      "text/plain": [
       "secuenciaMasLarga (generic function with 1 method)"
      ]
     },
     "metadata": {},
     "output_type": "display_data"
    }
   ],
   "source": [
    "function secuenciaMasLarga(maximo)\n",
    "\n",
    "    inicialMax = 1\n",
    "    tamañoMax = 0\n",
    "\n",
    "    for i in 1:maximo\n",
    "        tamañoActual = length(calcularSecuenciaHasta1(i))\n",
    "        if tamañoActual > tamañoMax\n",
    "            inicialMax = i\n",
    "            tamañoMax = tamañoActual\n",
    "        end\n",
    "    end\n",
    "\n",
    "    return inicialMax, tamañoMax\n",
    "end"
   ]
  },
  {
   "cell_type": "code",
   "execution_count": 60,
   "id": "55d13eab",
   "metadata": {},
   "outputs": [
    {
     "data": {
      "text/plain": [
       "(837799, 525)"
      ]
     },
     "metadata": {},
     "output_type": "display_data"
    }
   ],
   "source": [
    "secuenciaMasLarga(999999)"
   ]
  }
 ],
 "metadata": {
  "kernelspec": {
   "display_name": "Julia 1.11.4",
   "language": "julia",
   "name": "julia-1.11"
  },
  "language_info": {
   "file_extension": ".jl",
   "mimetype": "application/julia",
   "name": "julia",
   "version": "1.11.4"
  }
 },
 "nbformat": 4,
 "nbformat_minor": 5
}
