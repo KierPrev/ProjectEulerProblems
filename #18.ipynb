{
 "cells": [
  {
   "cell_type": "markdown",
   "id": "3715152e",
   "metadata": {},
   "source": [
    "# Pseudocodigo\n",
    "\n",
    "Funcion "
   ]
  }
 ],
 "metadata": {
  "language_info": {
   "name": "python"
  }
 },
 "nbformat": 4,
 "nbformat_minor": 5
}
