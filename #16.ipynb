{
 "cells": [
  {
   "cell_type": "code",
   "execution_count": null,
   "id": "d220c5a9",
   "metadata": {},
   "outputs": [],
   "source": [
    "function sumaDigitos(n)\n",
    "    suma = sum(digits(BigInt(2)^n))\n",
    "    return suma\n",
    "end"
   ]
  },
  {
   "cell_type": "code",
   "execution_count": null,
   "id": "b8c2c0cd",
   "metadata": {},
   "outputs": [],
   "source": [
    "sumaDigitos(1000)"
   ]
  }
 ],
 "metadata": {
  "kernelspec": {
   "display_name": "Julia 1.11.4",
   "language": "julia",
   "name": "julia-1.11"
  },
  "language_info": {
   "file_extension": ".jl",
   "mimetype": "application/julia",
   "name": "julia",
   "version": "1.11.4"
  }
 },
 "nbformat": 4,
 "nbformat_minor": 5
}
