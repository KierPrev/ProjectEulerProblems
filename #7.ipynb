{
 "cells": [
  {
   "cell_type": "code",
   "execution_count": null,
   "id": "84415676",
   "metadata": {},
   "outputs": [
    {
     "data": {
      "text/plain": [
       "buscarPrimoN (generic function with 1 method)"
      ]
     },
     "metadata": {},
     "output_type": "display_data"
    }
   ],
   "source": [
    "using Primes\n",
    "\n",
    "\n",
    "\n",
    "function buscarPrimoN(N) ## El primo numero Nº\n",
    "    primos = []\n",
    "    i = 1\n",
    "    while true\n",
    "        if length(primos) == N\n",
    "            return primos[N]\n",
    "        end\n",
    "        if isprime(i)\n",
    "            push!(primos, i)\n",
    "        end\n",
    "        i += 1\n",
    "    end\n",
    "end\n",
    "\n"
   ]
  },
  {
   "cell_type": "code",
   "execution_count": null,
   "id": "4e7a4b7f",
   "metadata": {},
   "outputs": [
    {
     "data": {
      "text/plain": [
       "104743"
      ]
     },
     "metadata": {},
     "output_type": "display_data"
    }
   ],
   "source": [
    "buscarPrimoN()"
   ]
  }
 ],
 "metadata": {
  "kernelspec": {
   "display_name": "Julia 1.11.4",
   "language": "julia",
   "name": "julia-1.11"
  },
  "language_info": {
   "file_extension": ".jl",
   "mimetype": "application/julia",
   "name": "julia",
   "version": "1.11.4"
  }
 },
 "nbformat": 4,
 "nbformat_minor": 5
}
