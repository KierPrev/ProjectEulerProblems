{
 "cells": [
  {
   "cell_type": "code",
   "execution_count": 45,
   "id": "25136954",
   "metadata": {},
   "outputs": [
    {
     "data": {
      "text/plain": [
       "divisibleHastaM (generic function with 2 methods)"
      ]
     },
     "metadata": {},
     "output_type": "display_data"
    }
   ],
   "source": [
    "function divisibleHastaM(num,m)\n",
    "    for i in 1:m\n",
    "        if num % i != 0\n",
    "            return false\n",
    "        end\n",
    "    end\n",
    "\n",
    "    return true\n",
    "end\n"
   ]
  },
  {
   "cell_type": "code",
   "execution_count": 46,
   "id": "623045f6",
   "metadata": {},
   "outputs": [
    {
     "data": {
      "text/plain": [
       "probar (generic function with 1 method)"
      ]
     },
     "metadata": {},
     "output_type": "display_data"
    }
   ],
   "source": [
    "function probar(n)\n",
    "    i = 1\n",
    "    while true\n",
    "        if divisibleHastaM(i,n) == true\n",
    "            return i\n",
    "        end\n",
    "        i += 1\n",
    "    end\n",
    "end"
   ]
  },
  {
   "cell_type": "code",
   "execution_count": 47,
   "id": "047f8b6e",
   "metadata": {},
   "outputs": [
    {
     "data": {
      "text/plain": [
       "232792560"
      ]
     },
     "metadata": {},
     "output_type": "display_data"
    }
   ],
   "source": [
    "probar(20)"
   ]
  }
 ],
 "metadata": {
  "kernelspec": {
   "display_name": "Julia 1.11.4",
   "language": "julia",
   "name": "julia-1.11"
  },
  "language_info": {
   "file_extension": ".jl",
   "mimetype": "application/julia",
   "name": "julia",
   "version": "1.11.4"
  }
 },
 "nbformat": 4,
 "nbformat_minor": 5
}
