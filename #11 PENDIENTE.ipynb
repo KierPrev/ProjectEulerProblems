{
 "cells": [
  {
   "cell_type": "code",
   "execution_count": 134,
   "id": "59e4bc5f",
   "metadata": {},
   "outputs": [
    {
     "data": {
      "text/plain": [
       "\"08 02 22 97 38 15 00 40 00 75 04 05 07 78 52 12 50 77 91 08\\n49 49 99 40 17 81 18 57 60 87 17 40 98 43 69 48 04 56 62 00\\n81 49 31 73 55 79 14 29 93 71 40 67 53 88 30 03 49 13 36 65\\n52 70 95 23 04 60 11 42 69 24 68 56 01 32 56 71 37 02 36 91\\n22 31 16 71 51 67 63 89 41 92 3\"\u001b[93m\u001b[1m ⋯ 659 bytes ⋯ \u001b[22m\u001b[39m\"33 67 46 55 12 32 63 93 53 69\\n04 42 16 73 38 25 39 11 24 94 72 18 08 46 29 32 40 62 76 36\\n20 69 36 41 72 30 23 88 34 62 99 69 82 67 59 85 74 04 36 16\\n20 73 35 29 78 31 90 01 74 31 49 71 48 86 81 16 23 57 05 54\\n01 70 54 71 83 51 54 69 16 92 33 48 61 43 52 01 89 19 67 48\\n\""
      ]
     },
     "metadata": {},
     "output_type": "display_data"
    }
   ],
   "source": [
    "numerazo = \"\"\"\n",
    "08 02 22 97 38 15 00 40 00 75 04 05 07 78 52 12 50 77 91 08\n",
    "49 49 99 40 17 81 18 57 60 87 17 40 98 43 69 48 04 56 62 00\n",
    "81 49 31 73 55 79 14 29 93 71 40 67 53 88 30 03 49 13 36 65\n",
    "52 70 95 23 04 60 11 42 69 24 68 56 01 32 56 71 37 02 36 91\n",
    "22 31 16 71 51 67 63 89 41 92 36 54 22 40 40 28 66 33 13 80\n",
    "24 47 32 60 99 03 45 02 44 75 33 53 78 36 84 20 35 17 12 50\n",
    "32 98 81 28 64 23 67 10 26 38 40 67 59 54 70 66 18 38 64 70\n",
    "67 26 20 68 02 62 12 20 95 63 94 39 63 08 40 91 66 49 94 21\n",
    "24 55 58 05 66 73 99 26 97 17 78 78 96 83 14 88 34 89 63 72\n",
    "21 36 23 09 75 00 76 44 20 45 35 14 00 61 33 97 34 31 33 95\n",
    "78 17 53 28 22 75 31 67 15 94 03 80 04 62 16 14 09 53 56 92\n",
    "16 39 05 42 96 35 31 47 55 58 88 24 00 17 54 24 36 29 85 57\n",
    "86 56 00 48 35 71 89 07 05 44 44 37 44 60 21 58 51 54 17 58\n",
    "19 80 81 68 05 94 47 69 28 73 92 13 86 52 17 77 04 89 55 40\n",
    "04 52 08 83 97 35 99 16 07 97 57 32 16 26 26 79 33 27 98 66\n",
    "88 36 68 87 57 62 20 72 03 46 33 67 46 55 12 32 63 93 53 69\n",
    "04 42 16 73 38 25 39 11 24 94 72 18 08 46 29 32 40 62 76 36\n",
    "20 69 36 41 72 30 23 88 34 62 99 69 82 67 59 85 74 04 36 16\n",
    "20 73 35 29 78 31 90 01 74 31 49 71 48 86 81 16 23 57 05 54\n",
    "01 70 54 71 83 51 54 69 16 92 33 48 61 43 52 01 89 19 67 48\n",
    "\"\"\""
   ]
  },
  {
   "cell_type": "code",
   "execution_count": 135,
   "id": "c30b24ac",
   "metadata": {},
   "outputs": [
    {
     "data": {
      "text/plain": [
       "aMatriz (generic function with 1 method)"
      ]
     },
     "metadata": {},
     "output_type": "display_data"
    }
   ],
   "source": [
    "function aMatriz(choclo)\n",
    "    chocloOrdenado = split(choclo)\n",
    "    nums = parse.(Int, chocloOrdenado)\n",
    "    matriz = reshape(nums, 20, :)'\n",
    "    return matriz\n",
    "end"
   ]
  },
  {
   "cell_type": "code",
   "execution_count": 136,
   "id": "af1fff67",
   "metadata": {},
   "outputs": [
    {
     "data": {
      "text/plain": [
       "prodV (generic function with 1 method)"
      ]
     },
     "metadata": {},
     "output_type": "display_data"
    }
   ],
   "source": [
    "function prodV(matrix, many)\n",
    "\n",
    "    ncolumnas   = size(matrix, 2)\n",
    "    nfilas      = size(matrix, 1)\n",
    "\n",
    "    productos = []\n",
    "\n",
    "    for col in 1:(ncolumnas)\n",
    "        for fi in 1:(nfilas-many+1)\n",
    "            push!(productos, prod(matrix[fi:fi+many-1,col]))\n",
    "        end\n",
    "    end\n",
    "    return productos\n",
    "end"
   ]
  },
  {
   "cell_type": "code",
   "execution_count": 137,
   "id": "1fd70f2f",
   "metadata": {},
   "outputs": [
    {
     "data": {
      "text/plain": [
       "prodD (generic function with 2 methods)"
      ]
     },
     "metadata": {},
     "output_type": "display_data"
    }
   ],
   "source": [
    "function prodD(matrix, many)\n",
    "    nfilas, ncolumnas = size(matrix)\n",
    "    productos = []\n",
    "\n",
    "    # Diagonales ↘ (down-right)\n",
    "    for col in 1:(ncolumnas - many + 1)\n",
    "        for fi in 1:(nfilas - many + 1)\n",
    "            push!(productos, prod(matrix[fi + i, col + i] for i in 0:many-1))\n",
    "        end\n",
    "    end\n",
    "\n",
    "    # Diagonales ↙ (down-left)\n",
    "    for col in many:ncolumnas\n",
    "        for fi in 1:(nfilas - many + 1)\n",
    "            push!(productos, prod(matrix[fi + i, col - i] for i in 0:many-1 ))\n",
    "        end\n",
    "    end\n",
    "\n",
    "    return productos\n",
    "end\n"
   ]
  },
  {
   "cell_type": "code",
   "execution_count": 138,
   "id": "d3335351",
   "metadata": {},
   "outputs": [],
   "source": [
    "matrix = aMatriz(numerazo);"
   ]
  },
  {
   "cell_type": "code",
   "execution_count": 140,
   "id": "2830d975",
   "metadata": {},
   "outputs": [
    {
     "data": {
      "text/plain": [
       "70600674"
      ]
     },
     "metadata": {},
     "output_type": "display_data"
    }
   ],
   "source": [
    "n = 4\n",
    "max_producto = maximum( vcat( prodV(matrix,n),  # vertical\n",
    "                             prodV(transpose(matrix),n),  # horizontal\n",
    "                             prodD(matrix,n) ) )  # diagonales\n"
   ]
  }
 ],
 "metadata": {
  "kernelspec": {
   "display_name": "Julia 1.11.4",
   "language": "julia",
   "name": "julia-1.11"
  },
  "language_info": {
   "file_extension": ".jl",
   "mimetype": "application/julia",
   "name": "julia",
   "version": "1.11.4"
  }
 },
 "nbformat": 4,
 "nbformat_minor": 5
}
