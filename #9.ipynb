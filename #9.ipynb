{
 "cells": [
  {
   "cell_type": "code",
   "execution_count": 5,
   "id": "d87487bb",
   "metadata": {},
   "outputs": [
    {
     "data": {
      "text/plain": [
       "quienEs (generic function with 1 method)"
      ]
     },
     "metadata": {},
     "output_type": "display_data"
    }
   ],
   "source": [
    "function quienEs(n)\n",
    "    for a in 1:n\n",
    "        for b in 2:n\n",
    "            if a + b + sqrt(a^2 + b^2) == n\n",
    "                c = n-a-b\n",
    "                print(a, b, c)\n",
    "                return a * b * c\n",
    "            end\n",
    "        end\n",
    "    end\n",
    "end"
   ]
  },
  {
   "cell_type": "code",
   "execution_count": 7,
   "id": "d03d2942",
   "metadata": {},
   "outputs": [
    {
     "name": "stdout",
     "output_type": "stream",
     "text": [
      "200375425"
     ]
    },
    {
     "data": {
      "text/plain": [
       "31875000"
      ]
     },
     "metadata": {},
     "output_type": "display_data"
    }
   ],
   "source": [
    "quienEs(1000)"
   ]
  }
 ],
 "metadata": {
  "kernelspec": {
   "display_name": "Julia 1.11.4",
   "language": "julia",
   "name": "julia-1.11"
  },
  "language_info": {
   "file_extension": ".jl",
   "mimetype": "application/julia",
   "name": "julia",
   "version": "1.11.4"
  }
 },
 "nbformat": 4,
 "nbformat_minor": 5
}
