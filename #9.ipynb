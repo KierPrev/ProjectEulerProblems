{
 "cells": [
  {
   "cell_type": "code",
   "execution_count": 3,
   "id": "d87487bb",
   "metadata": {},
   "outputs": [
    {
     "data": {
      "text/plain": [
       "quienEs (generic function with 1 method)"
      ]
     },
     "metadata": {},
     "output_type": "display_data"
    }
   ],
   "source": [
    "function quienEs(n)\n",
    "    for a in 1:n\n",
    "        for b in 2:n\n",
    "            if a + b + sqrt(a^2 + b^2) == n\n",
    "                return a, b, n-a-b\n",
    "            end\n",
    "        end\n",
    "    end\n",
    "    return\n",
    "end"
   ]
  },
  {
   "cell_type": "code",
   "execution_count": 4,
   "id": "d03d2942",
   "metadata": {},
   "outputs": [
    {
     "data": {
      "text/plain": [
       "(200, 375, 425)"
      ]
     },
     "metadata": {},
     "output_type": "display_data"
    }
   ],
   "source": [
    "quienEs(1000)"
   ]
  }
 ],
 "metadata": {
  "kernelspec": {
   "display_name": "Julia 1.11.5",
   "language": "julia",
   "name": "julia-1.11"
  },
  "language_info": {
   "file_extension": ".jl",
   "mimetype": "application/julia",
   "name": "julia",
   "version": "1.11.5"
  }
 },
 "nbformat": 4,
 "nbformat_minor": 5
}
