{
 "cells": [
  {
   "cell_type": "code",
   "execution_count": 22,
   "id": "1b199722",
   "metadata": {},
   "outputs": [
    {
     "data": {
      "text/plain": [
       "3×3 Matrix{Int64}:\n",
       " 0  0  0\n",
       " 0  0  0\n",
       " 0  0  0"
      ]
     },
     "execution_count": 22,
     "metadata": {},
     "output_type": "execute_result"
    }
   ],
   "source": [
    "n = 3\n",
    "dp = zeros(Int, n, n)"
   ]
  },
  {
   "cell_type": "code",
   "execution_count": 23,
   "id": "d6dc325d",
   "metadata": {},
   "outputs": [
    {
     "data": {
      "text/plain": [
       "3×3 Matrix{Int64}:\n",
       " 0  0  0\n",
       " 0  0  0\n",
       " 0  0  1"
      ]
     },
     "execution_count": 23,
     "metadata": {},
     "output_type": "execute_result"
    }
   ],
   "source": [
    "# Marcamos objetivo\n",
    "dp[n,n] = 1\n",
    "dp"
   ]
  },
  {
   "cell_type": "code",
   "execution_count": 24,
   "id": "95e070c5",
   "metadata": {},
   "outputs": [
    {
     "data": {
      "text/plain": [
       "3×3 Matrix{Int64}:\n",
       " 0  0  1\n",
       " 0  0  1\n",
       " 1  1  1"
      ]
     },
     "execution_count": 24,
     "metadata": {},
     "output_type": "execute_result"
    }
   ],
   "source": [
    "# Marcamos paredes\n",
    "for j in 1:n\n",
    "    dp[n,j] = 1\n",
    "end\n",
    "\n",
    "for j in 1:n\n",
    "    dp[j,n] = 1\n",
    "end\n",
    "\n",
    "dp"
   ]
  },
  {
   "cell_type": "code",
   "execution_count": 25,
   "id": "540269ef",
   "metadata": {},
   "outputs": [
    {
     "data": {
      "text/plain": [
       "3×3 Matrix{Int64}:\n",
       " 6  3  1\n",
       " 3  2  1\n",
       " 1  1  1"
      ]
     },
     "execution_count": 25,
     "metadata": {},
     "output_type": "execute_result"
    }
   ],
   "source": [
    "for i in (n-1):-1:1       # i = 3, 2, 1\n",
    "    for j in (n-1):-1:1   # j = 3, 2, 1\n",
    "        dp[i, j] = dp[i+1, j] + dp[i, j+1]\n",
    "    end\n",
    "end\n",
    "dp"
   ]
  }
 ],
 "metadata": {
  "kernelspec": {
   "display_name": "Julia 1.11.4",
   "language": "julia",
   "name": "julia-1.11"
  },
  "language_info": {
   "file_extension": ".jl",
   "mimetype": "application/julia",
   "name": "julia",
   "version": "1.11.4"
  }
 },
 "nbformat": 4,
 "nbformat_minor": 5
}
