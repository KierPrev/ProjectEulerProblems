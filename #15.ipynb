{
 "cells": [
  {
   "cell_type": "code",
   "execution_count": 36,
   "id": "540269ef",
   "metadata": {},
   "outputs": [
    {
     "data": {
      "text/plain": [
       "calcularPasos (generic function with 1 method)"
      ]
     },
     "execution_count": 36,
     "metadata": {},
     "output_type": "execute_result"
    }
   ],
   "source": [
    "function calcularPasos(m)\n",
    "    n = m+1\n",
    "    dp = zeros(Int, n, n) # Matriz de 0s\n",
    "\n",
    "    dp[n,n] = 1         # Objetivo (1)\n",
    "\n",
    "    for j in 1:n        # Paredes de 1\n",
    "        dp[n,j] = 1\n",
    "    end\n",
    "    \n",
    "    for j in 1:n\n",
    "        dp[j,n] = 1\n",
    "    end\n",
    "    \n",
    "    # Vamos rellenando desde el objetivo hasta el inicio\n",
    "\n",
    "    for i in (n-1):-1:1       # i = 3, 2, 1\n",
    "        for j in (n-1):-1:1   # j = 3, 2, 1\n",
    "            dp[i, j] = dp[i+1, j] + dp[i, j+1]\n",
    "        end\n",
    "    end\n",
    "    return dp\n",
    "end"
   ]
  },
  {
   "cell_type": "code",
   "execution_count": 37,
   "id": "42720874",
   "metadata": {},
   "outputs": [
    {
     "data": {
      "text/plain": [
       "21×21 Matrix{Int64}:\n",
       " 137846528820  68923264410  33578000610  …  53130  10626  1771  231  21  1\n",
       "  68923264410  35345263800  17672631900     42504   8855  1540  210  20  1\n",
       "  33578000610  17672631900   9075135300     33649   7315  1330  190  19  1\n",
       "  15905368710   8597496600   4537567650     26334   5985  1140  171  18  1\n",
       "   7307872110   4059928950   2203961430     20349   4845   969  153  17  1\n",
       "   3247943160   1855967520   1037158320  …  15504   3876   816  136  16  1\n",
       "   1391975640    818809200    471435600     11628   3060   680  120  15  1\n",
       "    573166440    347373600    206253075      8568   2380   560  105  14  1\n",
       "    225792840    141120525     86493225      6188   1820   455   91  13  1\n",
       "     84672315     54627300     34597290      4368   1365   364   78  12  1\n",
       "     30045015     20030010     13123110  …   3003   1001   286   66  11  1\n",
       "     10015005      6906900      4686825      2002    715   220   55  10  1\n",
       "      3108105      2220075      1562275      1287    495   165   45   9  1\n",
       "       888030       657800       480700       792    330   120   36   8  1\n",
       "       230230       177100       134596       462    210    84   28   7  1\n",
       "        53130        42504        33649  …    252    126    56   21   6  1\n",
       "        10626         8855         7315       126     70    35   15   5  1\n",
       "         1771         1540         1330        56     35    20   10   4  1\n",
       "          231          210          190        21     15    10    6   3  1\n",
       "           21           20           19         6      5     4    3   2  1\n",
       "            1            1            1  …      1      1     1    1   1  1"
      ]
     },
     "execution_count": 37,
     "metadata": {},
     "output_type": "execute_result"
    }
   ],
   "source": [
    "calcularPasos(20)"
   ]
  }
 ],
 "metadata": {
  "kernelspec": {
   "display_name": "Julia 1.11.4",
   "language": "julia",
   "name": "julia-1.11"
  },
  "language_info": {
   "file_extension": ".jl",
   "mimetype": "application/julia",
   "name": "julia",
   "version": "1.11.4"
  }
 },
 "nbformat": 4,
 "nbformat_minor": 5
}
