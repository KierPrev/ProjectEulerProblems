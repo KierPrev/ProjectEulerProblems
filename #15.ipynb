{
 "cells": [
  {
   "cell_type": "code",
   "execution_count": null,
   "id": "540269ef",
   "metadata": {},
   "outputs": [],
   "source": [
    "function calcularPasos(m)\n",
    "    n = m+1\n",
    "    dp = zeros(Int, n, n) # Matriz de 0s\n",
    "\n",
    "    dp[n,n] = 1         # Objetivo (1)\n",
    "\n",
    "    for j in 1:n        # Paredes de 1\n",
    "        dp[n,j] = 1\n",
    "    end\n",
    "    \n",
    "    for j in 1:n\n",
    "        dp[j,n] = 1\n",
    "    end\n",
    "    \n",
    "    # Vamos rellenando desde el objetivo hasta el inicio\n",
    "\n",
    "    for i in (n-1):-1:1       # i = 3, 2, 1\n",
    "        for j in (n-1):-1:1   # j = 3, 2, 1\n",
    "            dp[i, j] = dp[i+1, j] + dp[i, j+1]\n",
    "        end\n",
    "    end\n",
    "    return dp\n",
    "end"
   ]
  },
  {
   "cell_type": "code",
   "execution_count": null,
   "id": "42720874",
   "metadata": {},
   "outputs": [],
   "source": [
    "calcularPasos(20)"
   ]
  }
 ],
 "metadata": {
  "kernelspec": {
   "display_name": "Julia 1.11.4",
   "language": "julia",
   "name": "julia-1.11"
  },
  "language_info": {
   "file_extension": ".jl",
   "mimetype": "application/julia",
   "name": "julia",
   "version": "1.11.4"
  }
 },
 "nbformat": 4,
 "nbformat_minor": 5
}
