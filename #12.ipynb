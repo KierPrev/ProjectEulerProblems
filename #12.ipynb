{
 "cells": [
  {
   "cell_type": "code",
   "execution_count": 1,
   "id": "f542dff8",
   "metadata": {},
   "outputs": [
    {
     "data": {
      "text/plain": [
       "calcularTrianguloN (generic function with 1 method)"
      ]
     },
     "metadata": {},
     "output_type": "display_data"
    }
   ],
   "source": [
    "function calcularTrianguloN(n)\n",
    "    suma = 0\n",
    "    for i in 1:n\n",
    "        suma += i\n",
    "    end\n",
    "    return suma\n",
    "end"
   ]
  },
  {
   "cell_type": "code",
   "execution_count": 2,
   "id": "fcf163f6",
   "metadata": {},
   "outputs": [
    {
     "data": {
      "text/plain": [
       "28"
      ]
     },
     "metadata": {},
     "output_type": "display_data"
    }
   ],
   "source": [
    "calcularTrianguloN(7)"
   ]
  },
  {
   "cell_type": "code",
   "execution_count": null,
   "id": "b0722ae0",
   "metadata": {},
   "outputs": [
    {
     "data": {
      "text/plain": [
       "calcularDivisores (generic function with 1 method)"
      ]
     },
     "metadata": {},
     "output_type": "display_data"
    }
   ],
   "source": [
    "function calcularDivisores(N)\n",
    "    divisores = 0\n",
    "    limite = floor(Int, sqrt(N))\n",
    "    for i in 1:limite\n",
    "        if N % i == 0\n",
    "            divisores += 2  # Contamos tanto i como N/i\n",
    "        end\n",
    "    end\n",
    "    # Si N es un cuadrado perfecto, restamos uno porque contamos un divisor dos veces\n",
    "    if limite * limite == N\n",
    "        divisores -= 1\n",
    "    end\n",
    "    return divisores\n",
    "end"
   ]
  },
  {
   "cell_type": "code",
   "execution_count": 45,
   "id": "5fdd1295",
   "metadata": {},
   "outputs": [
    {
     "data": {
      "text/plain": [
       "primerTrianguloNDivisores (generic function with 1 method)"
      ]
     },
     "metadata": {},
     "output_type": "display_data"
    }
   ],
   "source": [
    "function primerTrianguloNDivisores(N)\n",
    "    i = 1\n",
    "    while true\n",
    "        trianguloN = calcularTrianguloN(i)\n",
    "        #println(calcularDivisores(trianguloN), \" \", N)\n",
    "        if calcularDivisores(trianguloN) >= N\n",
    "            return trianguloN\n",
    "        end\n",
    "        i += 1\n",
    "    end\n",
    "\n",
    "end"
   ]
  },
  {
   "cell_type": "code",
   "execution_count": 62,
   "id": "7abfc27d",
   "metadata": {},
   "outputs": [
    {
     "data": {
      "text/plain": [
       "76576500"
      ]
     },
     "metadata": {},
     "output_type": "display_data"
    }
   ],
   "source": [
    "primerTrianguloNDivisores(500)"
   ]
  },
  {
   "cell_type": "code",
   "execution_count": 26,
   "id": "eca377de",
   "metadata": {},
   "outputs": [
    {
     "data": {
      "text/plain": [
       "generarTriangulos (generic function with 1 method)"
      ]
     },
     "metadata": {},
     "output_type": "display_data"
    }
   ],
   "source": [
    "function generarTriangulos(nTriangulo)\n",
    "    triangulos = []\n",
    "    for i in 1:nTriangulo\n",
    "        push!(triangulos, sumaNaturalesHasta(i))\n",
    "    end\n",
    "    return triangulos\n",
    "end"
   ]
  },
  {
   "cell_type": "code",
   "execution_count": 49,
   "id": "3148ad49",
   "metadata": {},
   "outputs": [
    {
     "data": {
      "text/plain": [
       "6"
      ]
     },
     "metadata": {},
     "output_type": "display_data"
    }
   ],
   "source": [
    "calcularDivisores(28)"
   ]
  },
  {
   "cell_type": "code",
   "execution_count": null,
   "id": "4eb3fecf",
   "metadata": {},
   "outputs": [
    {
     "data": {
      "text/plain": [
       "28"
      ]
     },
     "metadata": {},
     "output_type": "display_data"
    }
   ],
   "source": [
    "generarTriangulos(7)"
   ]
  }
 ],
 "metadata": {
  "kernelspec": {
   "display_name": "Julia 1.11.4",
   "language": "julia",
   "name": "julia-1.11"
  },
  "language_info": {
   "file_extension": ".jl",
   "mimetype": "application/julia",
   "name": "julia",
   "version": "1.11.4"
  }
 },
 "nbformat": 4,
 "nbformat_minor": 5
}
