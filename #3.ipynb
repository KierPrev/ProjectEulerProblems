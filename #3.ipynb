{
 "cells": [
  {
   "cell_type": "code",
   "execution_count": 6,
   "id": "58e28f3f",
   "metadata": {},
   "outputs": [
    {
     "data": {
      "text/plain": [
       "esPrimo (generic function with 2 methods)"
      ]
     },
     "metadata": {},
     "output_type": "display_data"
    }
   ],
   "source": [
    "function esPrimo(num::Integer)\n",
    "    if num <= 1\n",
    "        return false\n",
    "    elseif num == 2\n",
    "        return true\n",
    "    elseif num % 2 == 0\n",
    "        return false\n",
    "    else\n",
    "        for i in 3:2:floor(Int, sqrt(num))\n",
    "            if num % i == 0\n",
    "                return false\n",
    "            end\n",
    "        end\n",
    "        return true\n",
    "    end\n",
    "end"
   ]
  },
  {
   "cell_type": "code",
   "execution_count": 7,
   "id": "75c5dd33",
   "metadata": {},
   "outputs": [
    {
     "data": {
      "text/plain": [
       "mayorFactorPrimo (generic function with 1 method)"
      ]
     },
     "metadata": {},
     "output_type": "display_data"
    }
   ],
   "source": [
    "function mayorFactorPrimo(num)\n",
    "    factores = Int[]\n",
    "    # Recorrer todos los primos de 1 al numero\n",
    "    # Chequear si la multiplicacion de los que vamos recorriendo da el numero en cuestion, entonces el mayor es el maximo factor\n",
    "    for i in 2:floor(Int, sqrt(num))\n",
    "       if esPrimo(i) && num % i == 0\n",
    "            push!(factores, i)\n",
    "       end\n",
    "    end\n",
    "    if isempty(factores)\n",
    "        # Si no se encontraron factores y num es primo, devolvemos num\n",
    "        if esPrimo(num)\n",
    "            return num\n",
    "        else\n",
    "            error(\"No se encontró ningún factor primo en el rango evaluado.\")\n",
    "        end\n",
    "    else\n",
    "        # El vector se llena de números en orden creciente, así que el último es el mayor\n",
    "        return factores[end]\n",
    "    end\n",
    "\n",
    "\n",
    "end\n",
    "\n",
    "\n"
   ]
  },
  {
   "cell_type": "code",
   "execution_count": 167,
   "id": "4a2a99fc",
   "metadata": {},
   "outputs": [
    {
     "data": {
      "text/plain": [
       "6857"
      ]
     },
     "metadata": {},
     "output_type": "display_data"
    }
   ],
   "source": [
    "mayorFactorPrimo(600851475143)"
   ]
  }
 ],
 "metadata": {
  "kernelspec": {
   "display_name": "Julia 1.11.4",
   "language": "julia",
   "name": "julia-1.11"
  },
  "language_info": {
   "file_extension": ".jl",
   "mimetype": "application/julia",
   "name": "julia",
   "version": "1.11.4"
  }
 },
 "nbformat": 4,
 "nbformat_minor": 5
}
