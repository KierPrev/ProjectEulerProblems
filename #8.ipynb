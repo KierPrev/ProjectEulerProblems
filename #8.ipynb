{
 "cells": [
  {
   "cell_type": "code",
   "execution_count": null,
   "id": "70706e6c",
   "metadata": {},
   "outputs": [
    {
     "data": {
      "text/plain": [
       "sonAdyacentes (generic function with 1 method)"
      ]
     },
     "metadata": {},
     "output_type": "display_data"
    }
   ],
   "source": [
    "function areAdjacent(r,s)\n",
    "    if r + 1 == s || r - 1 == s || r == s\n",
    "        return true\n",
    "    else\n",
    "        return false\n",
    "    end\n",
    "end"
   ]
  },
  {
   "cell_type": "code",
   "execution_count": null,
   "id": "dc89ba0b",
   "metadata": {},
   "outputs": [
    {
     "data": {
      "text/plain": [
       "false"
      ]
     },
     "metadata": {},
     "output_type": "display_data"
    }
   ],
   "source": [
    "function find4Adjacent(numbers)\n",
    "    ## Walk over all numbers, checking adjacency\n",
    "    \n",
    "end"
   ]
  }
 ],
 "metadata": {
  "kernelspec": {
   "display_name": "Julia 1.11.4",
   "language": "julia",
   "name": "julia-1.11"
  },
  "language_info": {
   "file_extension": ".jl",
   "mimetype": "application/julia",
   "name": "julia",
   "version": "1.11.4"
  }
 },
 "nbformat": 4,
 "nbformat_minor": 5
}
