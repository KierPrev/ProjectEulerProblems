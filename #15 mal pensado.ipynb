{
 "cells": [
  {
   "cell_type": "code",
   "execution_count": 8,
   "id": "5c9b3dbf",
   "metadata": {},
   "outputs": [
    {
     "data": {
      "text/plain": [
       "move (generic function with 1 method)"
      ]
     },
     "execution_count": 8,
     "metadata": {},
     "output_type": "execute_result"
    }
   ],
   "source": [
    "function move(x,y,size)\n",
    "    if y < size\n",
    "        println(\"Abajo\")\n",
    "        return x,y+1\n",
    "    else\n",
    "        println(\"Derecha\")\n",
    "        return x+1,y\n",
    "    end\n",
    "end"
   ]
  },
  {
   "cell_type": "code",
   "execution_count": 9,
   "id": "3e642b86",
   "metadata": {},
   "outputs": [
    {
     "data": {
      "text/plain": [
       "caminar (generic function with 1 method)"
      ]
     },
     "execution_count": 9,
     "metadata": {},
     "output_type": "execute_result"
    }
   ],
   "source": [
    "function caminar(x,y, size)\n",
    "    pasos = 0\n",
    "    llegamos = false\n",
    "\n",
    "    while llegamos == false\n",
    "\n",
    "        ## LLEGAMOS???\n",
    "        if x == size && y == size\n",
    "            llegamos = true\n",
    "            println(\"Llegamos!!!\")\n",
    "            break\n",
    "        end\n",
    "\n",
    "        x, y = move(x, y, size)\n",
    "        pasos += 1\n",
    "\n",
    "        \n",
    "    end\n",
    "    return pasos\n",
    "end"
   ]
  },
  {
   "cell_type": "code",
   "execution_count": 10,
   "id": "546cef7b",
   "metadata": {},
   "outputs": [
    {
     "name": "stdout",
     "output_type": "stream",
     "text": [
      "Abajo\n",
      "Derecha\n",
      "Derecha\n",
      "Derecha\n",
      "Llegamos!!!\n"
     ]
    },
    {
     "data": {
      "text/plain": [
       "4"
      ]
     },
     "execution_count": 10,
     "metadata": {},
     "output_type": "execute_result"
    }
   ],
   "source": [
    "caminar(5,7,8)"
   ]
  }
 ],
 "metadata": {
  "kernelspec": {
   "display_name": "Julia 1.11.4",
   "language": "julia",
   "name": "julia-1.11"
  },
  "language_info": {
   "file_extension": ".jl",
   "mimetype": "application/julia",
   "name": "julia",
   "version": "1.11.4"
  }
 },
 "nbformat": 4,
 "nbformat_minor": 5
}
