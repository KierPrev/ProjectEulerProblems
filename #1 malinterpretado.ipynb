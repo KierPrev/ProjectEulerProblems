{
 "cells": [
  {
   "cell_type": "code",
   "execution_count": 10,
   "id": "d6be729b",
   "metadata": {},
   "outputs": [
    {
     "name": "stdout",
     "output_type": "stream",
     "text": [
      "15\n",
      "45\n",
      "90\n",
      "150\n",
      "225\n",
      "315\n",
      "420\n",
      "540\n",
      "675\n",
      "825\n",
      "990\n"
     ]
    }
   ],
   "source": [
    "i = 1\n",
    "resultado = 0\n",
    "\n",
    "while resultado < 1000\n",
    "    if resultado + 3*5*i >= 1000\n",
    "        break\n",
    "    end\n",
    "    \n",
    "    resultado += 3*5*i\n",
    "    println(resultado)\n",
    "    i += 1\n",
    "end"
   ]
  }
 ],
 "metadata": {
  "kernelspec": {
   "display_name": "Julia 1.11.4",
   "language": "julia",
   "name": "julia-1.11"
  },
  "language_info": {
   "file_extension": ".jl",
   "mimetype": "application/julia",
   "name": "julia",
   "version": "1.11.4"
  }
 },
 "nbformat": 4,
 "nbformat_minor": 5
}
